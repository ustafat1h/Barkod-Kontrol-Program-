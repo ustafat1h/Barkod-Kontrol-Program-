{
 "cells": [
  {
   "cell_type": "markdown",
   "id": "b7927afd",
   "metadata": {},
   "source": [
    "Algoritma\n",
    "\n",
    "1-Başla\n",
    "2-Kontrol kodu(barkod numarasındaki son rakam) hariç 12 haneli barkod numarasının rakamları bir diziye aktarılır.\n",
    "3-Dizinin tek indisli elemanlarının tıplamı 3 ile çarpılır ve çift indiski elemanlar ile toplanır.\n",
    "4-Toplamın 10'a bölümünden kalan hesaplanır. (t mod 10)\n",
    "5-10'dan kalan çıkarılır,elden edilen sonuç barkodun son rakamıdır.(Barkod kontrol kodudur.)\n",
    "\n",
    "Barkod numarası örneği:\n",
    "\n",
    "# 9799753293685#"
   ]
  },
  {
   "cell_type": "code",
   "execution_count": 1,
   "id": "3ae77eb0",
   "metadata": {},
   "outputs": [],
   "source": [
    "import numpy as np"
   ]
  },
  {
   "cell_type": "code",
   "execution_count": 2,
   "id": "0cd48e7b",
   "metadata": {},
   "outputs": [],
   "source": [
    "n = np.array([9,7,9,9,7,5,3,2,9,3,6,8])"
   ]
  },
  {
   "cell_type": "code",
   "execution_count": 3,
   "id": "58668825",
   "metadata": {},
   "outputs": [
    {
     "name": "stdout",
     "output_type": "stream",
     "text": [
      "Barkod Numarası [9 7 9 9 7 5 3 2 9 3 6 8]\n"
     ]
    }
   ],
   "source": [
    "print(\"Barkod Numarası\" , n)"
   ]
  },
  {
   "cell_type": "code",
   "execution_count": 4,
   "id": "e517121f",
   "metadata": {},
   "outputs": [],
   "source": [
    "t = 3*(n[1]+n[3]+n[5]+n[7]+n[9]+n[11]) + n[0]+n[2]+n[4]+n[6]+n[8]+n[10]\n",
    "k = 10 - (t % 10)"
   ]
  },
  {
   "cell_type": "code",
   "execution_count": 5,
   "id": "5bc089b9",
   "metadata": {},
   "outputs": [
    {
     "name": "stdout",
     "output_type": "stream",
     "text": [
      "Barkod Kontrol Numarası 5\n"
     ]
    }
   ],
   "source": [
    "print(\"Barkod Kontrol Numarası\" , k)"
   ]
  },
  {
   "cell_type": "code",
   "execution_count": null,
   "id": "8c3f9f17",
   "metadata": {},
   "outputs": [],
   "source": []
  }
 ],
 "metadata": {
  "kernelspec": {
   "display_name": "Python 3",
   "language": "python",
   "name": "python3"
  },
  "language_info": {
   "codemirror_mode": {
    "name": "ipython",
    "version": 3
   },
   "file_extension": ".py",
   "mimetype": "text/x-python",
   "name": "python",
   "nbconvert_exporter": "python",
   "pygments_lexer": "ipython3",
   "version": "3.8.8"
  }
 },
 "nbformat": 4,
 "nbformat_minor": 5
}
